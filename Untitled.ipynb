{
 "cells": [
  {
   "cell_type": "code",
   "execution_count": 22,
   "id": "89459b87",
   "metadata": {},
   "outputs": [],
   "source": [
    "import numpy as np\n",
    "import pandas as pd\n",
    "\n",
    "import matplotlib.pyplot as plt\n",
    "import seaborn as sns\n",
    "\n",
    "\n",
    "import statsmodels.api as sm\n",
    "\n",
    "from sklearn.linear_model import LogisticRegression\n",
    "from sklearn.model_selection import GridSearchCV\n",
    "from sklearn.metrics import classification_report\n",
    "\n",
    "\n",
    "\n",
    "from sklearn.model_selection import train_test_split\n"
   ]
  },
  {
   "cell_type": "code",
   "execution_count": 23,
   "id": "24391d1b",
   "metadata": {},
   "outputs": [
    {
     "data": {
      "text/html": [
       "<div>\n",
       "<style scoped>\n",
       "    .dataframe tbody tr th:only-of-type {\n",
       "        vertical-align: middle;\n",
       "    }\n",
       "\n",
       "    .dataframe tbody tr th {\n",
       "        vertical-align: top;\n",
       "    }\n",
       "\n",
       "    .dataframe thead th {\n",
       "        text-align: right;\n",
       "    }\n",
       "</style>\n",
       "<table border=\"1\" class=\"dataframe\">\n",
       "  <thead>\n",
       "    <tr style=\"text-align: right;\">\n",
       "      <th></th>\n",
       "      <th>Unnamed: 0</th>\n",
       "      <th>carat</th>\n",
       "      <th>cut</th>\n",
       "      <th>color</th>\n",
       "      <th>clarity</th>\n",
       "      <th>depth</th>\n",
       "      <th>table</th>\n",
       "      <th>price</th>\n",
       "      <th>x</th>\n",
       "      <th>y</th>\n",
       "      <th>z</th>\n",
       "    </tr>\n",
       "  </thead>\n",
       "  <tbody>\n",
       "    <tr>\n",
       "      <th>0</th>\n",
       "      <td>1</td>\n",
       "      <td>0.23</td>\n",
       "      <td>'Ideal'</td>\n",
       "      <td>'E'</td>\n",
       "      <td>'SI2'</td>\n",
       "      <td>61.5</td>\n",
       "      <td>55.0</td>\n",
       "      <td>326</td>\n",
       "      <td>3.95</td>\n",
       "      <td>3.98</td>\n",
       "      <td>2.43</td>\n",
       "    </tr>\n",
       "    <tr>\n",
       "      <th>1</th>\n",
       "      <td>2</td>\n",
       "      <td>0.21</td>\n",
       "      <td>'Premium'</td>\n",
       "      <td>'E'</td>\n",
       "      <td>'SI1'</td>\n",
       "      <td>59.8</td>\n",
       "      <td>61.0</td>\n",
       "      <td>326</td>\n",
       "      <td>3.89</td>\n",
       "      <td>3.84</td>\n",
       "      <td>2.31</td>\n",
       "    </tr>\n",
       "    <tr>\n",
       "      <th>2</th>\n",
       "      <td>3</td>\n",
       "      <td>0.23</td>\n",
       "      <td>'Good'</td>\n",
       "      <td>'E'</td>\n",
       "      <td>'VS1'</td>\n",
       "      <td>56.9</td>\n",
       "      <td>65.0</td>\n",
       "      <td>327</td>\n",
       "      <td>4.05</td>\n",
       "      <td>4.07</td>\n",
       "      <td>2.31</td>\n",
       "    </tr>\n",
       "    <tr>\n",
       "      <th>3</th>\n",
       "      <td>4</td>\n",
       "      <td>0.29</td>\n",
       "      <td>'Premium'</td>\n",
       "      <td>'I'</td>\n",
       "      <td>'VS2'</td>\n",
       "      <td>62.4</td>\n",
       "      <td>58.0</td>\n",
       "      <td>334</td>\n",
       "      <td>4.20</td>\n",
       "      <td>4.23</td>\n",
       "      <td>2.63</td>\n",
       "    </tr>\n",
       "    <tr>\n",
       "      <th>4</th>\n",
       "      <td>5</td>\n",
       "      <td>0.31</td>\n",
       "      <td>'Good'</td>\n",
       "      <td>'J'</td>\n",
       "      <td>'SI2'</td>\n",
       "      <td>63.3</td>\n",
       "      <td>58.0</td>\n",
       "      <td>335</td>\n",
       "      <td>4.34</td>\n",
       "      <td>4.35</td>\n",
       "      <td>2.75</td>\n",
       "    </tr>\n",
       "    <tr>\n",
       "      <th>...</th>\n",
       "      <td>...</td>\n",
       "      <td>...</td>\n",
       "      <td>...</td>\n",
       "      <td>...</td>\n",
       "      <td>...</td>\n",
       "      <td>...</td>\n",
       "      <td>...</td>\n",
       "      <td>...</td>\n",
       "      <td>...</td>\n",
       "      <td>...</td>\n",
       "      <td>...</td>\n",
       "    </tr>\n",
       "    <tr>\n",
       "      <th>1509</th>\n",
       "      <td>1510</td>\n",
       "      <td>0.81</td>\n",
       "      <td>'Very Good'</td>\n",
       "      <td>'G'</td>\n",
       "      <td>'VS2'</td>\n",
       "      <td>63.1</td>\n",
       "      <td>58.0</td>\n",
       "      <td>2994</td>\n",
       "      <td>5.88</td>\n",
       "      <td>5.84</td>\n",
       "      <td>3.70</td>\n",
       "    </tr>\n",
       "    <tr>\n",
       "      <th>1510</th>\n",
       "      <td>1511</td>\n",
       "      <td>1.24</td>\n",
       "      <td>'Premium'</td>\n",
       "      <td>'J'</td>\n",
       "      <td>'I1'</td>\n",
       "      <td>61.9</td>\n",
       "      <td>55.0</td>\n",
       "      <td>2994</td>\n",
       "      <td>6.92</td>\n",
       "      <td>6.85</td>\n",
       "      <td>4.26</td>\n",
       "    </tr>\n",
       "    <tr>\n",
       "      <th>1511</th>\n",
       "      <td>1512</td>\n",
       "      <td>0.81</td>\n",
       "      <td>'Premium'</td>\n",
       "      <td>'G'</td>\n",
       "      <td>'VS2'</td>\n",
       "      <td>62.0</td>\n",
       "      <td>58.0</td>\n",
       "      <td>2994</td>\n",
       "      <td>5.95</td>\n",
       "      <td>5.92</td>\n",
       "      <td>3.68</td>\n",
       "    </tr>\n",
       "    <tr>\n",
       "      <th>1512</th>\n",
       "      <td>1513</td>\n",
       "      <td>0.81</td>\n",
       "      <td>'Premium'</td>\n",
       "      <td>'D'</td>\n",
       "      <td>'SI2'</td>\n",
       "      <td>61.7</td>\n",
       "      <td>58.0</td>\n",
       "      <td>2994</td>\n",
       "      <td>5.97</td>\n",
       "      <td>5.93</td>\n",
       "      <td>3.67</td>\n",
       "    </tr>\n",
       "    <tr>\n",
       "      <th>1513</th>\n",
       "      <td>1514</td>\n",
       "      <td>0.73</td>\n",
       "      <td>'Ideal'</td>\n",
       "      <td>'D'</td>\n",
       "      <td>'SI1'</td>\n",
       "      <td>61.4</td>\n",
       "      <td>56.0</td>\n",
       "      <td>2995</td>\n",
       "      <td>5.78</td>\n",
       "      <td>5.82</td>\n",
       "      <td>3.56</td>\n",
       "    </tr>\n",
       "  </tbody>\n",
       "</table>\n",
       "<p>1514 rows × 11 columns</p>\n",
       "</div>"
      ],
      "text/plain": [
       "      Unnamed: 0  carat          cut color clarity  depth  table  price     x  \\\n",
       "0              1   0.23      'Ideal'   'E'   'SI2'   61.5   55.0    326  3.95   \n",
       "1              2   0.21    'Premium'   'E'   'SI1'   59.8   61.0    326  3.89   \n",
       "2              3   0.23       'Good'   'E'   'VS1'   56.9   65.0    327  4.05   \n",
       "3              4   0.29    'Premium'   'I'   'VS2'   62.4   58.0    334  4.20   \n",
       "4              5   0.31       'Good'   'J'   'SI2'   63.3   58.0    335  4.34   \n",
       "...          ...    ...          ...   ...     ...    ...    ...    ...   ...   \n",
       "1509        1510   0.81  'Very Good'   'G'   'VS2'   63.1   58.0   2994  5.88   \n",
       "1510        1511   1.24    'Premium'   'J'    'I1'   61.9   55.0   2994  6.92   \n",
       "1511        1512   0.81    'Premium'   'G'   'VS2'   62.0   58.0   2994  5.95   \n",
       "1512        1513   0.81    'Premium'   'D'   'SI2'   61.7   58.0   2994  5.97   \n",
       "1513        1514   0.73      'Ideal'   'D'   'SI1'   61.4   56.0   2995  5.78   \n",
       "\n",
       "         y     z  \n",
       "0     3.98  2.43  \n",
       "1     3.84  2.31  \n",
       "2     4.07  2.31  \n",
       "3     4.23  2.63  \n",
       "4     4.35  2.75  \n",
       "...    ...   ...  \n",
       "1509  5.84  3.70  \n",
       "1510  6.85  4.26  \n",
       "1511  5.92  3.68  \n",
       "1512  5.93  3.67  \n",
       "1513  5.82  3.56  \n",
       "\n",
       "[1514 rows x 11 columns]"
      ]
     },
     "execution_count": 23,
     "metadata": {},
     "output_type": "execute_result"
    }
   ],
   "source": [
    "train = pd.read_csv('diamonds.csv', skipinitialspace = True)\n",
    "\n",
    "\n",
    "train"
   ]
  },
  {
   "cell_type": "code",
   "execution_count": 24,
   "id": "be4f8d3b",
   "metadata": {},
   "outputs": [],
   "source": [
    "train = train.replace(\"'Ideal'\",1)\n",
    "train = train.replace(\"'Premium'\" ,0)\n",
    "train = train.replace(\"'Good'\", 0)\n",
    "train = train.replace(\"'Very Good'\",0)\n",
    "train = train.replace(\"'Fair'\",0)\n"
   ]
  },
  {
   "cell_type": "code",
   "execution_count": 25,
   "id": "ed6268fd",
   "metadata": {},
   "outputs": [],
   "source": [
    "X = train[['carat','price','x','y','z']]\n",
    "Y = train['cut']\n",
    "\n"
   ]
  },
  {
   "cell_type": "code",
   "execution_count": 26,
   "id": "5d7943c7",
   "metadata": {},
   "outputs": [],
   "source": [
    "\n",
    "X_train, X_test, Y_train, Y_test = train_test_split(X, Y, random_state=0)"
   ]
  },
  {
   "cell_type": "code",
   "execution_count": 27,
   "id": "1d2bfb35",
   "metadata": {},
   "outputs": [],
   "source": [
    "logreg=LogisticRegression()\n",
    "result = logreg.fit(X_train, y=Y_train)\n"
   ]
  },
  {
   "cell_type": "code",
   "execution_count": 28,
   "id": "eb99ab34",
   "metadata": {},
   "outputs": [
    {
     "name": "stdout",
     "output_type": "stream",
     "text": [
      "              precision    recall  f1-score   support\n",
      "\n",
      "           0       0.68      0.97      0.80       253\n",
      "           1       0.58      0.09      0.15       126\n",
      "\n",
      "    accuracy                           0.68       379\n",
      "   macro avg       0.63      0.53      0.48       379\n",
      "weighted avg       0.65      0.68      0.58       379\n",
      "\n"
     ]
    }
   ],
   "source": [
    "predictions = logreg.predict(X_test)\n",
    "print(classification_report(Y_test, predictions))"
   ]
  },
  {
   "cell_type": "code",
   "execution_count": 4,
   "id": "33d12b08",
   "metadata": {},
   "outputs": [],
   "source": [
    "col_names = ['unnamed','carat','cut','color','clarity','depth','table',\n",
    "'price','x','y','z']\n",
    "train.columns = col_names\n",
    "test.columns = col_names\n",
    "\n",
    "\n",
    "train = train.drop(['color'], axis=1)\n",
    "test = test.drop(['color'], axis=1)\n",
    "\n",
    "\n",
    "train_data = train.dropna(axis=0,how='any')\n",
    "test_data = test.dropna(axis=0,how='any')\n",
    "\n"
   ]
  },
  {
   "cell_type": "code",
   "execution_count": 5,
   "id": "5c83e172",
   "metadata": {},
   "outputs": [],
   "source": [
    "train = train.replace(\"'Ideal'\",1)\n",
    "train = train.replace(\"'Premium'\" ,0)\n",
    "train = train.replace(\"'Good'\", 0)\n",
    "train = train.replace(\"'Very Good'\",0)\n",
    "train = train.replace(\"'Fair'\",0)\n",
    "\n",
    "test = test.replace(\"'Ideal'\",1)\n",
    "test = test.replace(\"'Premium'\" ,0)\n",
    "test = test.replace(\"'Good'\", 0)\n",
    "test = test.replace(\"'Very Good'\",0)\n",
    "test = test.replace(\"'Fair'\",0)\n",
    "\n",
    "\n",
    "train_target = train.iloc[:,2]\n",
    "test_target = test.iloc[:,2]\n",
    "\n",
    "\n",
    "\n",
    "train_data = train.iloc[:,0:13]\n",
    "test_data = test.iloc[:,0:13]\n",
    "\n"
   ]
  },
  {
   "cell_type": "code",
   "execution_count": 7,
   "id": "4a8bc8b0",
   "metadata": {},
   "outputs": [],
   "source": [
    "train_data = train_data.drop(['x', 'z', 'table', 'depth', 'carat'], axis=1)\n",
    "test_data = test_data.drop(['x','z', 'table', 'depth', 'carat'], axis=1)\n",
    "\n",
    "drop_columns = list(set(list(train_data.columns.values))-set(list(test_data.columns.values)))\n",
    "train_data = train_data.drop(drop_columns,axis=1, errors='ignore')\n",
    "test_data = test_data.drop(drop_columns,axis=1, errors='ignore')\n"
   ]
  },
  {
   "cell_type": "code",
   "execution_count": 10,
   "id": "da0a54df",
   "metadata": {},
   "outputs": [
    {
     "data": {
      "image/png": "[encoded data removed]",
      "text/plain": [
       "<Figure size 720x432 with 1 Axes>"
      ]
     },
     "metadata": {
      "needs_background": "light"
     },
     "output_type": "display_data"
    }
   ],
   "source": [
    " fg = sns.lmplot(x='x', y='cut', data=train, y_jitter=0.01, x_jitter=0.15, logistic=True, scatter_kws={'alpha':0.05}, line_kws={'color':'red'})\n",
    "fg.fig.set_size_inches(10,6)\n",
    "fg.savefig('figure_1.png')"
   ]
  },
  {
   "cell_type": "code",
   "execution_count": 16,
   "id": "1f0dfb83",
   "metadata": {},
   "outputs": [],
   "source": [
    "full_col_names = list(train_data.columns.values) \n",
    "test_data = test_data.values\n",
    "train_data = train_data.values\n",
    "test_target = test_target.values\n",
    "train_target = train_target.values"
   ]
  },
  {
   "cell_type": "code",
   "execution_count": 17,
   "id": "2105cb82",
   "metadata": {},
   "outputs": [
    {
     "data": {
      "text/plain": [
       "GridSearchCV(cv=5,\n",
       "             estimator=LogisticRegression(penalty='l1', random_state=7,\n",
       "                                          solver='liblinear'),\n",
       "             param_grid={'C': [0.001, 0.01, 0.1, 1, 10, 100, 1000]})"
      ]
     },
     "execution_count": 17,
     "metadata": {},
     "output_type": "execute_result"
    }
   ],
   "source": [
    "C_values = [0.001, 0.01, 0.1, 1, 10, 100, 1000]\n",
    "C_grid = {'C': C_values}\n",
    "\n",
    "n_folds = 5\n",
    "\n",
    "logReg = LogisticRegression(penalty='l1', random_state=7, solver='liblinear')\n",
    "grid_logReg = GridSearchCV(logReg, C_grid, cv=n_folds, refit=True)\n",
    "grid_logReg.fit(train_data,train_target)"
   ]
  },
  {
   "cell_type": "code",
   "execution_count": 18,
   "id": "edf432ce",
   "metadata": {},
   "outputs": [
    {
     "data": {
      "image/png": "[encoded data removed]",
      "text/plain": [
       "<Figure size 720x432 with 1 Axes>"
      ]
     },
     "metadata": {
      "needs_background": "light"
     },
     "output_type": "display_data"
    }
   ],
   "source": [
    "plt.figure().set_size_inches(10, 6)\n",
    "fg2 = plt.semilogx(C_values, grid_logReg.cv_results_['mean_test_score'])\n",
    "plt.savefig('figure_2.png')"
   ]
  },
  {
   "cell_type": "code",
   "execution_count": 21,
   "id": "1344ea88",
   "metadata": {},
   "outputs": [
    {
     "name": "stdout",
     "output_type": "stream",
     "text": [
      "1.0\n"
     ]
    }
   ],
   "source": [
    "best_logReg = grid_logReg.best_estimator_\n",
    "print(best_logReg.score(test_data,test_target))"
   ]
  },
  {
   "cell_type": "code",
   "execution_count": 22,
   "id": "a9e59fbb",
   "metadata": {},
   "outputs": [
    {
     "data": {
      "image/png": "[encoded data removed]",
      "text/plain": [
       "<Figure size 720x432 with 1 Axes>"
      ]
     },
     "metadata": {
      "needs_background": "light"
     },
     "output_type": "display_data"
    },
    {
     "data": {
      "image/png": "[encoded data removed]",
      "text/plain": [
       "<Figure size 720x432 with 1 Axes>"
      ]
     },
     "metadata": {
      "needs_background": "light"
     },
     "output_type": "display_data"
    }
   ],
   "source": [
    "logReg_coeff = pd.DataFrame({'feature_name': full_col_names, 'model_coefficient': best_logReg.coef_.transpose().flatten()})\n",
    "logReg_coeff = logReg_coeff.sort_values('model_coefficient',ascending=False)\n",
    "logReg_coeff_top = logReg_coeff.head(5)\n",
    "logReg_coeff_bottom = logReg_coeff.tail(5)\n",
    "\n",
    "\n",
    "plt.figure().set_size_inches(10, 6)\n",
    "fg3 = sns.barplot(x='feature_name', y='model_coefficient',data=logReg_coeff_top, palette=\"Blues_d\")\n",
    "fg3.set_xticklabels(rotation=35, labels=logReg_coeff_top.feature_name)\n",
    "\n",
    "\n",
    "plt.figure().set_size_inches(10,6)\n",
    "fg4 = sns.barplot(x='feature_name', y='model_coefficient',data=logReg_coeff_bottom, palette=\"GnBu_d\")\n",
    "fg4.set_xticklabels(rotation=35, labels=logReg_coeff_bottom.feature_name)\n",
    "plt.xlabel('Feature')\n",
    "plt.ylabel('Coefficient')\n",
    "plt.subplots_adjust(bottom=0.4)\n",
    "plt.savefig('figure_4.png')"
   ]
  }
 ],
 "metadata": {
  "kernelspec": {
   "display_name": "Python 3 (ipykernel)",
   "language": "python",
   "name": "python3"
  },
  "language_info": {
   "codemirror_mode": {
    "name": "ipython",
    "version": 3
   },
   "file_extension": ".py",
   "mimetype": "text/x-python",
   "name": "python",
   "nbconvert_exporter": "python",
   "pygments_lexer": "ipython3",
   "version": "3.9.7"
  }
 },
 "nbformat": 4,
 "nbformat_minor": 5
}
